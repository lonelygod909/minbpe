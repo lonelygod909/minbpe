{
 "cells": [
  {
   "cell_type": "code",
   "id": "initial_id",
   "metadata": {
    "collapsed": true,
    "ExecuteTime": {
     "end_time": "2025-02-16T07:25:17.007148Z",
     "start_time": "2025-02-16T07:25:17.003995Z"
    }
   },
   "source": "ord(\"兰\")",
   "outputs": [
    {
     "data": {
      "text/plain": [
       "20848"
      ]
     },
     "execution_count": 3,
     "metadata": {},
     "output_type": "execute_result"
    }
   ],
   "execution_count": 3
  },
  {
   "metadata": {
    "ExecuteTime": {
     "end_time": "2025-02-16T07:25:46.389839Z",
     "start_time": "2025-02-16T07:25:46.385659Z"
    }
   },
   "cell_type": "code",
   "source": "[ord(x) for x in \"复旦大学\"]",
   "id": "afc7d11545399e0d",
   "outputs": [
    {
     "data": {
      "text/plain": [
       "[22797, 26086, 22823, 23398]"
      ]
     },
     "execution_count": 4,
     "metadata": {},
     "output_type": "execute_result"
    }
   ],
   "execution_count": 4
  },
  {
   "metadata": {
    "ExecuteTime": {
     "end_time": "2025-02-16T07:29:14.497738Z",
     "start_time": "2025-02-16T07:29:14.493265Z"
    }
   },
   "cell_type": "code",
   "source": "list(\"复旦大学\".encode(\"utf32\"))",
   "id": "b4e340c95b30a6d2",
   "outputs": [
    {
     "data": {
      "text/plain": [
       "[255, 254, 0, 0, 13, 89, 0, 0, 230, 101, 0, 0, 39, 89, 0, 0, 102, 91, 0, 0]"
      ]
     },
     "execution_count": 6,
     "metadata": {},
     "output_type": "execute_result"
    }
   ],
   "execution_count": 6
  },
  {
   "metadata": {
    "ExecuteTime": {
     "end_time": "2025-02-16T07:42:08.238769Z",
     "start_time": "2025-02-16T07:42:08.234982Z"
    }
   },
   "cell_type": "code",
   "source": [
    "tokens = list(\"复旦大学是中国上海的一所顶尖综合性大学，成立于1905年。它以其在学术研究、教学质量和社会影响力方面的卓越表现而著称。复旦大学拥有众多学科优势，尤其在文学、法学、商学、医学、计算机科学等领域享有盛誉。它也是中国“211工程”和“985工程”重点支持的大学之一。    你对复旦大学有兴趣吗？是考虑申请还是想了解某些具体方面的信息？\".encode(\"utf8\"))\n",
    "\n",
    "# byte pair\n",
    "def get_stats(ids):\n",
    "    counts = {}\n",
    "    for pair in zip(ids, ids[1:]):\n",
    "        counts[pair] = counts.get(pair, 0) + 1\n",
    "    return counts\n",
    "\n",
    "stats = get_stats(tokens)\n",
    "print(sorted(((v, k) for k, v in stats.items()), reverse=True))"
   ],
   "id": "6c0ac614d33a62fe",
   "outputs": [
    {
     "name": "stdout",
     "output_type": "stream",
     "text": [
      "[(13, (229, 173)), (13, (173, 166)), (9, (229, 164)), (9, (227, 128)), (6, (167, 229)), (5, (230, 156)), (5, (228, 184)), (5, (164, 167)), (5, (128, 129)), (4, (239, 188)), (4, (231, 154)), (4, (230, 152)), (4, (229, 133)), (4, (228, 186)), (4, (226, 128)), (4, (166, 230)), (4, (166, 227)), (4, (154, 132)), (4, (152, 175)), (4, (128, 130)), (3, (231, 167)), (3, (230, 151)), (3, (230, 150)), (3, (228, 188)), (3, (182, 229)), (3, (166, 229)), (3, (164, 141)), (3, (156, 137)), (3, (151, 166)), (3, (141, 230)), (3, (130, 229)), (3, (32, 32)), (2, (233, 157)), (2, (233, 135)), (2, (232, 182)), (2, (232, 128)), (2, (231, 168)), (2, (229, 183)), (2, (229, 176)), (2, (229, 174)), (2, (229, 156)), (2, (229, 155)), (2, (229, 146)), (2, (229, 144)), (2, (229, 138)), (2, (228, 189)), (2, (228, 185)), (2, (188, 159)), (2, (188, 140)), (2, (185, 233)), (2, (184, 173)), (2, (184, 128)), (2, (183, 165)), (2, (175, 230)), (2, (175, 228)), (2, (174, 131)), (2, (173, 229)), (2, (168, 139)), (2, (167, 145)), (2, (166, 231)), (2, (165, 231)), (2, (162, 231)), (2, (159, 230)), (2, (157, 162)), (2, (156, 168)), (2, (155, 189)), (2, (154, 229)), (2, (150, 185)), (2, (146, 140)), (2, (139, 228)), (2, (139, 226)), (2, (134, 229)), (2, (133, 182)), (2, (132, 229)), (2, (132, 228)), (2, (131, 228)), (2, (129, 230)), (2, (129, 229)), (2, (128, 157)), (2, (128, 156)), (2, (53, 229)), (1, (233, 162)), (1, (233, 161)), (1, (232, 191)), (1, (232, 180)), (1, (232, 175)), (1, (232, 174)), (1, (232, 170)), (1, (232, 167)), (1, (232, 161)), (1, (232, 153)), (1, (232, 145)), (1, (231, 187)), (1, (231, 174)), (1, (231, 173)), (1, (231, 171)), (1, (231, 169)), (1, (231, 164)), (1, (231, 160)), (1, (231, 155)), (1, (231, 148)), (1, (231, 142)), (1, (231, 130)), (1, (230, 181)), (1, (230, 179)), (1, (230, 159)), (1, (230, 149)), (1, (230, 148)), (1, (230, 140)), (1, (230, 139)), (1, (230, 137)), (1, (230, 136)), (1, (230, 131)), (1, (230, 129)), (1, (230, 128)), (1, (229, 189)), (1, (229, 185)), (1, (229, 175)), (1, (229, 159)), (1, (229, 149)), (1, (229, 147)), (1, (229, 141)), (1, (229, 140)), (1, (228, 191)), (1, (228, 187)), (1, (191, 239)), (1, (191, 161)), (1, (191, 152)), (1, (190, 228)), (1, (189, 228)), (1, (189, 226)), (1, (189, 177)), (1, (189, 160)), (1, (189, 147)), (1, (188, 229)), (1, (188, 154)), (1, (188, 152)), (1, (188, 151)), (1, (187, 229)), (1, (187, 188)), (1, (187, 165)), (1, (186, 231)), (1, (186, 171)), (1, (186, 155)), (1, (186, 142)), (1, (186, 134)), (1, (185, 230)), (1, (185, 229)), (1, (185, 180)), (1, (185, 159)), (1, (185, 139)), (1, (184, 138)), (1, (183, 232)), (1, (183, 231)), (1, (183, 228)), (1, (182, 227)), (1, (182, 163)), (1, (182, 138)), (1, (181, 183)), (1, (180, 232)), (1, (180, 227)), (1, (180, 168)), (1, (179, 232)), (1, (179, 228)), (1, (179, 149)), (1, (177, 229)), (1, (176, 232)), (1, (176, 227)), (1, (176, 164)), (1, (176, 150)), (1, (175, 239)), (1, (175, 232)), (1, (175, 231)), (1, (175, 185)), (1, (175, 183)), (1, (174, 161)), (1, (174, 151)), (1, (173, 137)), (1, (171, 230)), (1, (171, 139)), (1, (170, 137)), (1, (169, 182)), (1, (168, 233)), (1, (168, 231)), (1, (168, 230)), (1, (168, 229)), (1, (167, 176)), (1, (167, 163)), (1, (166, 239)), (1, (166, 232)), (1, (166, 228)), (1, (165, 230)), (1, (165, 229)), (1, (164, 229)), (1, (164, 190)), (1, (164, 154)), (1, (163, 230)), (1, (163, 229)), (1, (162, 134)), (1, (161, 231)), (1, (161, 230)), (1, (161, 182)), (1, (161, 168)), (1, (160, 229)), (1, (160, 148)), (1, (159, 228)), (1, (159, 159)), (1, (159, 144)), (1, (157, 233)), (1, (157, 229)), (1, (156, 186)), (1, (156, 175)), (1, (156, 57)), (1, (156, 50)), (1, (155, 232)), (1, (155, 230)), (1, (155, 229)), (1, (155, 155)), (1, (153, 229)), (1, (153, 145)), (1, (152, 230)), (1, (152, 229)), (1, (151, 239)), (1, (151, 231)), (1, (151, 230)), (1, (151, 229)), (1, (150, 231)), (1, (150, 135)), (1, (149, 229)), (1, (149, 153)), (1, (149, 134)), (1, (148, 231)), (1, (148, 179)), (1, (148, 175)), (1, (147, 232)), (1, (147, 230)), (1, (147, 141)), (1, (145, 231)), (1, (145, 229)), (1, (145, 228)), (1, (145, 151)), (1, (144, 231)), (1, (144, 228)), (1, (144, 151)), (1, (144, 136)), (1, (143, 229)), (1, (142, 176)), (1, (142, 49)), (1, (141, 231)), (1, (141, 229)), (1, (141, 147)), (1, (140, 232)), (1, (140, 231)), (1, (140, 230)), (1, (140, 229)), (1, (140, 226)), (1, (140, 187)), (1, (140, 129)), (1, (139, 165)), (1, (138, 232)), (1, (138, 230)), (1, (138, 191)), (1, (138, 155)), (1, (137, 233)), (1, (137, 231)), (1, (137, 229)), (1, (137, 228)), (1, (137, 227)), (1, (137, 128)), (1, (136, 230)), (1, (136, 144)), (1, (135, 229)), (1, (135, 143)), (1, (135, 141)), (1, (134, 232)), (1, (133, 183)), (1, (133, 180)), (1, (131, 232)), (1, (131, 179)), (1, (130, 185)), (1, (130, 32)), (1, (129, 232)), (1, (129, 231)), (1, (129, 175)), (1, (128, 233)), (1, (128, 230)), (1, (128, 227)), (1, (128, 167)), (1, (128, 140)), (1, (128, 131)), (1, (57, 56)), (1, (57, 48)), (1, (56, 53)), (1, (50, 49)), (1, (49, 229)), (1, (49, 57)), (1, (49, 49)), (1, (48, 53)), (1, (32, 228))]\n"
     ]
    }
   ],
   "execution_count": 9
  },
  {
   "metadata": {
    "ExecuteTime": {
     "end_time": "2025-02-16T07:42:40.307339Z",
     "start_time": "2025-02-16T07:42:40.303910Z"
    }
   },
   "cell_type": "code",
   "source": "chr(229), chr(173)",
   "id": "7d64aab3c27adb50",
   "outputs": [
    {
     "data": {
      "text/plain": [
       "('å', '\\xad')"
      ]
     },
     "execution_count": 10,
     "metadata": {},
     "output_type": "execute_result"
    }
   ],
   "execution_count": 10
  },
  {
   "metadata": {
    "ExecuteTime": {
     "end_time": "2025-02-16T07:43:55.973036Z",
     "start_time": "2025-02-16T07:43:55.969160Z"
    }
   },
   "cell_type": "code",
   "source": [
    "top_pair = max(stats, key=stats.get)\n",
    "top_pair"
   ],
   "id": "ffa2be55a3c7324",
   "outputs": [
    {
     "data": {
      "text/plain": [
       "(229, 173)"
      ]
     },
     "execution_count": 11,
     "metadata": {},
     "output_type": "execute_result"
    }
   ],
   "execution_count": 11
  },
  {
   "metadata": {
    "ExecuteTime": {
     "end_time": "2025-02-16T07:47:14.076667Z",
     "start_time": "2025-02-16T07:47:14.073266Z"
    }
   },
   "cell_type": "code",
   "source": [
    "def merge(ids, pair, idx):\n",
    "    newids = []\n",
    "    i = 0\n",
    "    while i < len(ids):\n",
    "        if i < len(ids) - 1 and ids[i] ==pair[0] and ids[i+1] == pair[1]:\n",
    "            newids.append(idx)\n",
    "            i += 2\n",
    "        else:\n",
    "            newids.append(ids[i])\n",
    "            i += 1\n",
    "\n",
    "    return newids\n",
    "\n",
    "print(merge([5, 6, 6, 6, 7, 3, 4, 6, 7], (6, 7), 99))"
   ],
   "id": "9110ac16d08867c5",
   "outputs": [
    {
     "name": "stdout",
     "output_type": "stream",
     "text": [
      "[5, 6, 6, 99, 3, 4, 99]\n"
     ]
    }
   ],
   "execution_count": 12
  },
  {
   "metadata": {
    "ExecuteTime": {
     "end_time": "2025-02-16T07:48:36.512548Z",
     "start_time": "2025-02-16T07:48:36.509793Z"
    }
   },
   "cell_type": "code",
   "source": [
    "print(len(tokens))\n",
    "tokens2 = merge(tokens, top_pair, 256)\n",
    "print(len(tokens2))"
   ],
   "id": "a54009b32dfb0b3c",
   "outputs": [
    {
     "name": "stdout",
     "output_type": "stream",
     "text": [
      "467\n",
      "454\n"
     ]
    }
   ],
   "execution_count": 14
  },
  {
   "metadata": {
    "ExecuteTime": {
     "end_time": "2025-02-16T07:54:01.138868Z",
     "start_time": "2025-02-16T07:54:01.131780Z"
    }
   },
   "cell_type": "code",
   "source": [
    "text = open(\"tests/taylorswift.txt\", \"r\", encoding=\"utf-8\").read()\n",
    "tokens = text.encode(\"utf-8\")\n",
    "tokens = list(map(int, tokens))"
   ],
   "id": "d39167835bb8948d",
   "outputs": [],
   "execution_count": 15
  },
  {
   "metadata": {
    "ExecuteTime": {
     "end_time": "2025-02-16T07:59:31.337620Z",
     "start_time": "2025-02-16T07:59:30.724580Z"
    }
   },
   "cell_type": "code",
   "source": [
    "\n",
    "def get_stats(ids):\n",
    "    counts = {}\n",
    "    for pair in zip(ids, ids[1:]):\n",
    "        counts[pair] = counts.get(pair, 0) + 1\n",
    "    return counts\n",
    "\n",
    "\n",
    "def merge(ids, pair, idx):\n",
    "    newids = []\n",
    "    i = 0\n",
    "    while i < len(ids):\n",
    "        if i < len(ids) - 1 and ids[i] ==pair[0] and ids[i+1] == pair[1]:\n",
    "            newids.append(idx)\n",
    "            i += 2\n",
    "        else:\n",
    "            newids.append(ids[i])\n",
    "            i += 1\n",
    "\n",
    "    return newids\n",
    "\n",
    "vocab_size = 276\n",
    "num_merges = vocab_size - 256\n",
    "ids = list(tokens)\n",
    "\n",
    "merges = {}\n",
    "\n",
    "for i in range(num_merges):\n",
    "    stats = get_stats(ids)\n",
    "    pair = max(stats, key=stats.get)\n",
    "    idx = 256 + i\n",
    "    print(f\"merging {pair} into a new token {idx}\")\n",
    "    ids = merge(ids, pair, idx)\n",
    "    merges[pair] = idx\n"
   ],
   "id": "7e796ec3e9afcbcd",
   "outputs": [
    {
     "name": "stdout",
     "output_type": "stream",
     "text": [
      "merging (101, 32) into a new token 256\n",
      "merging (44, 32) into a new token 257\n",
      "merging (100, 32) into a new token 258\n",
      "merging (46, 32) into a new token 259\n",
      "merging (114, 32) into a new token 260\n",
      "merging (50, 48) into a new token 261\n",
      "merging (115, 32) into a new token 262\n",
      "merging (105, 110) into a new token 263\n",
      "merging (111, 110) into a new token 264\n",
      "merging (114, 105) into a new token 265\n",
      "merging (116, 32) into a new token 266\n",
      "merging (116, 104) into a new token 267\n",
      "merging (101, 258) into a new token 268\n",
      "merging (257, 261) into a new token 269\n",
      "merging (97, 110) into a new token 270\n",
      "merging (97, 114) into a new token 271\n",
      "merging (101, 260) into a new token 272\n",
      "merging (121, 32) into a new token 273\n",
      "merging (97, 108) into a new token 274\n",
      "merging (267, 256) into a new token 275\n"
     ]
    }
   ],
   "execution_count": 17
  },
  {
   "metadata": {
    "ExecuteTime": {
     "end_time": "2025-02-16T08:00:37.484955Z",
     "start_time": "2025-02-16T08:00:37.482287Z"
    }
   },
   "cell_type": "code",
   "source": [
    "print(\"tokens length\", len(tokens))\n",
    "print(\"ids length\", len(ids))"
   ],
   "id": "17c9ce4fae06af8",
   "outputs": [
    {
     "name": "stdout",
     "output_type": "stream",
     "text": [
      "tokens length 185768\n",
      "ids length 147440\n"
     ]
    }
   ],
   "execution_count": 18
  },
  {
   "metadata": {
    "ExecuteTime": {
     "end_time": "2025-02-16T08:13:15.609158Z",
     "start_time": "2025-02-16T08:13:15.606038Z"
    }
   },
   "cell_type": "code",
   "source": [
    "# decoding\n",
    "vocab = {idx: bytes([idx]) for idx in range(256)}\n",
    "for (p0, p1), idx in merges.items():\n",
    "    vocab[idx] = vocab[p0] + vocab[p1]\n",
    "\n",
    "def decode(ids):\n",
    "    tokens = b\"\".join(vocab[idx] for idx in ids)\n",
    "    text = tokens.decode(\"utf-8\", errors='replace')\n",
    "    return text\n",
    "\n",
    "print(decode([128]))"
   ],
   "id": "a7e297a98b87c9e6",
   "outputs": [
    {
     "name": "stdout",
     "output_type": "stream",
     "text": [
      "�\n"
     ]
    }
   ],
   "execution_count": 20
  },
  {
   "metadata": {
    "ExecuteTime": {
     "end_time": "2025-02-16T08:26:59.059989Z",
     "start_time": "2025-02-16T08:26:59.056876Z"
    }
   },
   "cell_type": "code",
   "source": [
    "def encode(text):\n",
    "    tokens = list(text.encode(\"utf-8\"))\n",
    "    while len(tokens) >= 2:\n",
    "        stats = get_stats((tokens))\n",
    "        pair = min(stats, key=lambda p : merges.get(p, float(\"inf\")))\n",
    "        if pair not in merges:\n",
    "            break\n",
    "        idx = merges[pair]\n",
    "        tokens = merge(tokens, pair, idx)\n",
    "    return tokens\n",
    "\n",
    "\n",
    "print(encode(\"hello world!\"))"
   ],
   "id": "cadac2b542a1e556",
   "outputs": [
    {
     "name": "stdout",
     "output_type": "stream",
     "text": [
      "[104, 101, 108, 108, 111, 32, 119, 111, 114, 108, 100, 33]\n"
     ]
    }
   ],
   "execution_count": 23
  },
  {
   "metadata": {
    "ExecuteTime": {
     "end_time": "2025-02-16T08:27:18.277185Z",
     "start_time": "2025-02-16T08:27:18.274911Z"
    }
   },
   "cell_type": "code",
   "source": "print(decode(encode(\"helloworldfswaf\")))",
   "id": "c66ba1f6ceb72b84",
   "outputs": [
    {
     "name": "stdout",
     "output_type": "stream",
     "text": [
      "helloworldfswaf\n"
     ]
    }
   ],
   "execution_count": 25
  },
  {
   "metadata": {
    "ExecuteTime": {
     "end_time": "2025-02-16T08:27:49.485375Z",
     "start_time": "2025-02-16T08:27:48.836536Z"
    }
   },
   "cell_type": "code",
   "source": [
    "text2 = decode(encode(text))\n",
    "print(text == text2)"
   ],
   "id": "3b2ad6700f54795b",
   "outputs": [
    {
     "name": "stdout",
     "output_type": "stream",
     "text": [
      "True\n"
     ]
    }
   ],
   "execution_count": 27
  },
  {
   "metadata": {
    "ExecuteTime": {
     "end_time": "2025-02-16T08:41:42.279048Z",
     "start_time": "2025-02-16T08:41:37.655810Z"
    }
   },
   "cell_type": "code",
   "source": [
    "import tiktoken\n",
    "\n",
    "enc = tiktoken.get_encoding(\"gpt2\")\n",
    "print(enc.encode(\"   hello\"))\n",
    "\n",
    "enc = tiktoken.get_encoding(\"cl100k_base\")\n",
    "print(enc.encode(\"   hello\"))"
   ],
   "id": "2c41cede41a1f257",
   "outputs": [
    {
     "name": "stdout",
     "output_type": "stream",
     "text": [
      "[220, 220, 23748]\n",
      "[256, 24748]\n"
     ]
    }
   ],
   "execution_count": 28
  },
  {
   "metadata": {
    "ExecuteTime": {
     "end_time": "2025-02-16T08:53:17.650125Z",
     "start_time": "2025-02-16T08:53:17.648375Z"
    }
   },
   "cell_type": "code",
   "source": "import sentencepiece as spm",
   "id": "c6911ccf0b121ae2",
   "outputs": [],
   "execution_count": null
  },
  {
   "metadata": {},
   "cell_type": "code",
   "outputs": [],
   "execution_count": null,
   "source": "",
   "id": "47592aa20c089ef"
  }
 ],
 "metadata": {
  "kernelspec": {
   "display_name": "Python 3",
   "language": "python",
   "name": "python3"
  },
  "language_info": {
   "codemirror_mode": {
    "name": "ipython",
    "version": 2
   },
   "file_extension": ".py",
   "mimetype": "text/x-python",
   "name": "python",
   "nbconvert_exporter": "python",
   "pygments_lexer": "ipython2",
   "version": "2.7.6"
  }
 },
 "nbformat": 4,
 "nbformat_minor": 5
}
